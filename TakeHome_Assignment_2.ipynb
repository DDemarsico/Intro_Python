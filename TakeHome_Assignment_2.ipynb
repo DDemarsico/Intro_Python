{
 "cells": [
  {
   "cell_type": "code",
   "execution_count": null,
   "id": "88f84794-0ee6-4027-9ff2-d6ba593127e5",
   "metadata": {},
   "outputs": [],
   "source": [
    "#Question 1:\n",
    "\n",
    "# Please write a function that takes a non-empty string, e.g., my_str, as the input parameter. The function needs to find a substring, sub_str, in the \n",
    "# my_str such that (1) sub_str does not have repeating characters and (2) the length of sub_str is maximum. The function needs to return sub_str and its \n",
    "# index (i.e., the index of the first character of sub_str in the original string). If sub_str is not unique, the function returns the first sub_str \n",
    "# (i.e., the substring of which the first character has lowest index) and its index. For example,\n",
    "# • If my_str = 'aaa', then the function should return ('a', 0), because sub_str would be 'a', of which the index is 0.\n",
    "# • If my_str = 'aa*b', then the function should return ('a*b', 1), because sub_str would be 'a*b', of which the index is 1.\n",
    "# • If my_str = 'asdfsab', then the function should return ('dfsab', 2), because sub_str would be 'dfsab', of which the index is 2.\n",
    "# • If my_str = 'aAab', then the function should return ('Aab', 1), because sub_str would be 'Aab', of which the index is 1.\n",
    "# • If my_str = '0132329862719', then the function should return ('986271', 6), because sub_str would be '986271', of which the index is 6.\n",
    "# • Note that uppercase and lowercase letters are considered different letters, e.g., 'A' and 'a' are two different characters.\n",
    "\n",
    "\n",
    "# Let's start by defining our function\n",
    "def question1(my_str):\n",
    "    char_index = {}                  # Empty dictionary to store our values and indexes\n",
    "    start = 0                        # Use this to track the beginning of each substring\n",
    "    max_length = 0                   # This will store the value of the largest substring\n",
    "    max_start = 0                    # This will store the index of the largest substring\n",
    "\n",
    "    # for every value in the index (i) and value (char)...\n",
    "    for i, char in enumerate(my_str):\n",
    "        # If the value is within the dictionary and the current substring being iterated...\n",
    "        if char in char_index and char_index[char] >= start:\n",
    "            # We'll move our starting point\n",
    "            start = char_index[char] + 1\n",
    "        # Then we update the recent index\n",
    "        char_index[char] = i\n",
    "        # and we'll calculate the length of the substring\n",
    "        length = i - start + 1\n",
    "        # If we found that the length of the substring was greater than what we previously found\n",
    "        if length > max_length:\n",
    "            max_length = length  # Update the max_length variable to be equivalent to the current length variable\n",
    "            max_start = start    # Same for the start variable\n",
    "\n",
    "    # Then use the starting index and length to find the largest substring.\n",
    "    return my_str[max_start:max_start + max_length], max_start\n",
    "\n",
    "# Example usage\n",
    "print(question1('aaa')) \n",
    "print(question1('asdfsab'))  \n",
    "print(question1('0132329862719'))\n",
    "\n",
    "    "
   ]
  },
  {
   "cell_type": "code",
   "execution_count": 23,
   "id": "c99c4534-2152-465c-9665-512f6997f7f3",
   "metadata": {},
   "outputs": [
    {
     "name": "stdin",
     "output_type": "stream",
     "text": [
      "Please enter an integer: 10\n"
     ]
    },
    {
     "data": {
      "text/plain": [
       "89"
      ]
     },
     "execution_count": 23,
     "metadata": {},
     "output_type": "execute_result"
    }
   ],
   "source": [
    "# Question 2:\n",
    "\n",
    "# Suppose a robot moves from the origin to a position that has a distance, x units (a positive integer), from the origin. Each time the robot can move only\n",
    "# 1 or 2 units. Please write a function to return in how many different ways the robot can move to the position. The distance, x, is provided during \n",
    "# runtime. For example,\n",
    "# • If x = 2, then your function should return 2, because there are 2 different ways: (1) 1 + 1 and (2) 2\n",
    "# • If x = 4, then your function should return 5, because there are 5 different ways:(1) 1 + 1 + 1 + 1, (2) 1 + 1 + 2, (3) 1 + 2+ 1, (4) 2 + 1 + 1,\n",
    "# and (5) 2 + 2\n",
    "\n",
    "# Start by defining our function:\n",
    "def question2(x):\n",
    "    if x <= 1:                   # There is only 1 way to get to 1, so we set this as the default\n",
    "        return 1\n",
    "\n",
    "    distance = [0] * (x + 1)           # Create an array with the size of the input + 1.\n",
    "    distance[0], distance[1] = 1, 1    # Set more base cases, with 0 staying at 0, and 1 only staying at 1.\n",
    "\n",
    "    # Now let's start iterating, 2 is the first value after setting our base cases. So the range will be from 2 to the value given in runtime.\n",
    "    for i in range(2, x + 1):\n",
    "        # At each value in the range, subtract 1 for the first option and add it to the subtraction of 2 from the value.\n",
    "        distance[i] = distance[i - 1] + distance[i - 2]\n",
    "    # run the loop until reaching the given value.\n",
    "    return distance[x]\n",
    "\n",
    "# Set input parameters for runtime:\n",
    "while True:        # Set while statement to true, so it will run indefinitely until it encounters a break statement.\n",
    "    try:\n",
    "        x = int(input(\"Please enter an integer:\"))\n",
    "    except ValueError:\n",
    "        print('Invalid entry: Please enter an integer')\n",
    "        continue   # Send the user to the top of the loop if they entered something that was not an integer.\n",
    "    break          # End the loop if the value was an integer.\n",
    "\n",
    "\n",
    "\n",
    "question2(x)\n",
    "    "
   ]
  },
  {
   "cell_type": "code",
   "execution_count": 64,
   "id": "ca9287c9-972a-4ba4-9327-d736af4b3c7f",
   "metadata": {},
   "outputs": [
    {
     "name": "stdin",
     "output_type": "stream",
     "text": [
      "Please enter an string: xxxyyxz\n"
     ]
    },
    {
     "data": {
      "text/plain": [
       "'z'"
      ]
     },
     "execution_count": 64,
     "metadata": {},
     "output_type": "execute_result"
    }
   ],
   "source": [
    "# Question 3:\n",
    "\n",
    "# Please write a function that takes a non-empty string as input (assume the string is called my_str). For this question, the string consists of only \n",
    "# English letters, and there is no difference between uppercase and lowercase letters, e.g., 'A' and 'a' are considered the same. The function repeatedly \n",
    "# deletes two adjacent and identical letters. The function returns the final string after the deletion (the letters in the returned final string can be \n",
    "# all lowercase). For example,\n",
    "# • If my_str = 'xyzzya', the function should return 'xa'.\n",
    "# • If my_str = 'xyx', the function should return 'xyx'.\n",
    "# • If my_str = 'xxx', the function should return 'x'.\n",
    "# • If my_str = 'xXx', the function should return 'x'.\n",
    "# • If my_str = 'xxxYyxZ', the function should return 'z'.\n",
    "\n",
    "# First, let's define the function\n",
    "def question3(x):\n",
    "    stack = []                     # Set an empty list for use in the function \n",
    "    \n",
    "    for char in x:\n",
    "        lower_case = char.lower()  # For every iteration, change the value to lower case\n",
    "        \n",
    "        if stack and stack[-1] == lower_case:  # if the iterated value exists at the first point and the last point in the list\n",
    "            stack.pop()  # Remove that value from the list\n",
    "        else:\n",
    "            stack.append(lower_case) # Otherwise, add it to the list\n",
    "\n",
    "    return ''.join(stack) # Now join the values in the list together into one group\n",
    "\n",
    "\n",
    "# Set input parameters for runtime:\n",
    "while True:        # Set while statement to true, so it will run indefinitely until it encounters a break statement.\n",
    "    try:\n",
    "        x = str(input(\"Please enter an string:\"))\n",
    "    except ValueError:\n",
    "        print('Invalid entry: Please enter an string')\n",
    "        continue   # Send the user to the top of the loop if they entered something that was not a string.\n",
    "    break          # End the loop if the value was a string.\n",
    "\n",
    "\n",
    "# Finally, run the function.\n",
    "question3(x)\n",
    "\n",
    "\n",
    "\n",
    "\n",
    "\n"
   ]
  }
 ],
 "metadata": {
  "kernelspec": {
   "display_name": "Python [conda env:base] *",
   "language": "python",
   "name": "conda-base-py"
  },
  "language_info": {
   "codemirror_mode": {
    "name": "ipython",
    "version": 3
   },
   "file_extension": ".py",
   "mimetype": "text/x-python",
   "name": "python",
   "nbconvert_exporter": "python",
   "pygments_lexer": "ipython3",
   "version": "3.12.7"
  }
 },
 "nbformat": 4,
 "nbformat_minor": 5
}
