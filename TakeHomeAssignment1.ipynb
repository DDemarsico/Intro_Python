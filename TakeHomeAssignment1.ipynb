{
 "cells": [
  {
   "cell_type": "code",
   "execution_count": 2,
   "id": "c5b6c4e2-8398-492e-814a-718209c5f29d",
   "metadata": {},
   "outputs": [
    {
     "name": "stdin",
     "output_type": "stream",
     "text": [
      "Please enter an integer between 1 and 27:  5\n"
     ]
    },
    {
     "name": "stdout",
     "output_type": "stream",
     "text": [
      "Thank you!\n",
      "    A\n",
      "   ABA\n",
      "  ABCBA\n",
      " ABCDCBA\n",
      "ABCDEDCBA\n"
     ]
    }
   ],
   "source": [
    "# Problem 1\n",
    "\n",
    "import string # Import the string package\n",
    "\n",
    "# First, collect the number of rows from the user\n",
    "rows = int(input('Please enter an integer between 1 and 27: '))\n",
    "if rows < 1 or rows > 27:\n",
    "    rows = int(input('That was not an integer between 1 and 27. Try again: '))\n",
    "else:\n",
    "    print('Thank you!')\n",
    "\n",
    "# Now we will use the string package to store all uppercase lettters into a variable\n",
    "letters = string.ascii_uppercase  # Use only uppercase letters\n",
    "\n",
    "# Set our row value at 0. Please mind that the row variable is different from the 'rows' variable used for runtime.\n",
    "row = 0  \n",
    "\n",
    "# Start a while loop with the row variable acting as an iterator\n",
    "while row < rows:\n",
    "    # Print leading spaces for alignment\n",
    "    print(' ' * (rows - row - 1), end='')\n",
    "\n",
    "    # Now let's start splitting the letters into separate groups\n",
    "    first_half = letters[:row + 1]  # This will be the first half, by adding 1 to the counter\n",
    "    second_half = first_half[:-1][::-1]  # Reverse it, by taking one away from our previously created first_half and countign backwards. \n",
    "                                         # then taking the reverse of that entire thing\n",
    "\n",
    "    # Print the full row\n",
    "    print(first_half + second_half)\n",
    "\n",
    "    row += 1"
   ]
  },
  {
   "cell_type": "code",
   "execution_count": 16,
   "id": "d6c6e871-2aac-4be1-8658-b0317d6bc68a",
   "metadata": {},
   "outputs": [
    {
     "name": "stdin",
     "output_type": "stream",
     "text": [
      "Display primes up to what value:  1000\n"
     ]
    },
    {
     "name": "stdout",
     "output_type": "stream",
     "text": [
      "2 3 5 7 11 101 131 151 181 191 313 353 373 383 727 757 787 797 919 929 \n"
     ]
    }
   ],
   "source": [
    "# P2: Please write one or more functions to find and print all the decimal palindromic prime\n",
    "# numbers up to a given number, which is provided by the user during runtime. In\n",
    "# addition to the function(s), please write some code to test the function(s).\n",
    "\n",
    "\n",
    "# First, let's define the function to determine if the value being iterated is a pallindrome. This will be used later.\n",
    "def palindrome(n):\n",
    "    return str(n) == str(n)[::-1] # This function returns the value if the string is equal to the second half of the value reversed\n",
    "\n",
    "# With the palindrome function working, let's make another function that combines it with one that searches for prime numbers.\n",
    "def primepal(): \n",
    "    max_value = int(input('Display primes up to what value: ')) # Now let's get an input number from the user. \n",
    "    value = 2 # Smallest prime number, we will start here\n",
    "    while value <= max_value:\n",
    "        is_prime = True               # I want to tentatively begin with our prime values being true\n",
    "        trial_factor = 2              # We'll start out prime variable at 2, the lowest value prime number\n",
    "    \n",
    "        while trial_factor < value:               # While our given number being iterated is less than 2,\n",
    "            if value % trial_factor == 0:         # If the remainder of value divided by the number being iterater equals zero, it can't be prime.\n",
    "                is_prime = False                  # Therefore, the trial factor is not a prime number\n",
    "                break                             # No need to continue if the value is prime, we place a break to end the conditional statement early.\n",
    "            trial_factor += 1                     # increase the value of the iterated value by 1 and redo the loop\n",
    "        \n",
    "        if is_prime and palindrome(value):                # So if the value is prime, we call the palindrom function again to see if it meets criteria\n",
    "            print(value, end = ' ')                       # Display the prime number\n",
    "        value += 1                                        # Increase value by 1 and redo the loop.\n",
    "    print()                                               # Move the cursor to the next line\n",
    "\n",
    "# Call the function\n",
    "primepal()\n",
    "\n"
   ]
  },
  {
   "cell_type": "code",
   "execution_count": 18,
   "id": "a5f139d2-b003-4797-8482-6a58ec2b7cc5",
   "metadata": {},
   "outputs": [
    {
     "name": "stdin",
     "output_type": "stream",
     "text": [
      "Please enter a positive integer:  22\n",
      "Please enter a positive integer that is greater than or equal to your previous entry:  42\n"
     ]
    },
    {
     "name": "stdout",
     "output_type": "stream",
     "text": [
      "22\n",
      "24\n",
      "33\n",
      "36\n"
     ]
    }
   ],
   "source": [
    "# P3: This needs to be a function\n",
    "\n",
    "# First, we will define our function\n",
    "def question3():\n",
    "    \n",
    "    # Collect the input parameters\n",
    "    p1 = int(input('Please enter a positive integer: '))\n",
    "    p2 = int(input('Please enter a positive integer that is greater than or equal to your previous entry: '))\n",
    "    \n",
    "    # If p2 isn't greater than or equal to p1, scold the user and send them back to the beginning\n",
    "    if p1 > p2:\n",
    "        print('Incorrect: please enter a value that is greater than or equal to your first entry. ')\n",
    "        return\n",
    "\n",
    "    found = False  # Flag to check if we found any valid numbers\n",
    "\n",
    "    # Seeting a range for p, between p1 and p2\n",
    "    for p in range(p1, p2 + 1):  \n",
    "        str_p = str(p)\n",
    "        if '0' in str_p: # We want to explicitly remove values that already have zeros in their digits (i.e. 30, 40, 50)\n",
    "            continue     # Continue statement skips over current iteration and moves to the next. \n",
    "            \n",
    "        digits = [int(d) for d in str_p]  # Extract digits into a list\n",
    "        if all(p % d == 0 for d in digits):  # Check if `p` is divisible by all its digits\n",
    "            print(p)\n",
    "            found = True  \n",
    "\n",
    "    if not found:\n",
    "        print(None)      # Print None if no valid number was found\n",
    "\n",
    "\n",
    "# Test the question:\n",
    "question3()"
   ]
  }
 ],
 "metadata": {
  "kernelspec": {
   "display_name": "Python [conda env:base] *",
   "language": "python",
   "name": "conda-base-py"
  },
  "language_info": {
   "codemirror_mode": {
    "name": "ipython",
    "version": 3
   },
   "file_extension": ".py",
   "mimetype": "text/x-python",
   "name": "python",
   "nbconvert_exporter": "python",
   "pygments_lexer": "ipython3",
   "version": "3.12.7"
  }
 },
 "nbformat": 4,
 "nbformat_minor": 5
}
